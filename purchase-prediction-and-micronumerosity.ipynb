{
 "cells": [
  {
   "cell_type": "code",
   "execution_count": 1,
   "id": "6cf45ec7",
   "metadata": {
    "_cell_guid": "b1076dfc-b9ad-4769-8c92-a6c4dae69d19",
    "_uuid": "8f2839f25d086af736a60e9eeb907d3b93b6e0e5",
    "execution": {
     "iopub.execute_input": "2024-06-13T06:22:38.296364Z",
     "iopub.status.busy": "2024-06-13T06:22:38.295919Z",
     "iopub.status.idle": "2024-06-13T06:22:39.215318Z",
     "shell.execute_reply": "2024-06-13T06:22:39.214141Z"
    },
    "papermill": {
     "duration": 0.931409,
     "end_time": "2024-06-13T06:22:39.218310",
     "exception": false,
     "start_time": "2024-06-13T06:22:38.286901",
     "status": "completed"
    },
    "tags": []
   },
   "outputs": [],
   "source": [
    "import pandas as pd"
   ]
  },
  {
   "cell_type": "code",
   "execution_count": 2,
   "id": "3466e770",
   "metadata": {
    "execution": {
     "iopub.execute_input": "2024-06-13T06:22:39.233802Z",
     "iopub.status.busy": "2024-06-13T06:22:39.233288Z",
     "iopub.status.idle": "2024-06-13T06:22:40.218563Z",
     "shell.execute_reply": "2024-06-13T06:22:40.217438Z"
    },
    "papermill": {
     "duration": 0.996107,
     "end_time": "2024-06-13T06:22:40.221506",
     "exception": false,
     "start_time": "2024-06-13T06:22:39.225399",
     "status": "completed"
    },
    "tags": []
   },
   "outputs": [],
   "source": [
    "purchase = pd.read_csv('https://github.com/YBIFoundation/Dataset/raw/main/Customer%20Purchase.csv')"
   ]
  },
  {
   "cell_type": "code",
   "execution_count": 3,
   "id": "4f606613",
   "metadata": {
    "execution": {
     "iopub.execute_input": "2024-06-13T06:22:40.237080Z",
     "iopub.status.busy": "2024-06-13T06:22:40.236688Z",
     "iopub.status.idle": "2024-06-13T06:22:40.259544Z",
     "shell.execute_reply": "2024-06-13T06:22:40.258271Z"
    },
    "papermill": {
     "duration": 0.033806,
     "end_time": "2024-06-13T06:22:40.262278",
     "exception": false,
     "start_time": "2024-06-13T06:22:40.228472",
     "status": "completed"
    },
    "tags": []
   },
   "outputs": [
    {
     "data": {
      "text/html": [
       "<div>\n",
       "<style scoped>\n",
       "    .dataframe tbody tr th:only-of-type {\n",
       "        vertical-align: middle;\n",
       "    }\n",
       "\n",
       "    .dataframe tbody tr th {\n",
       "        vertical-align: top;\n",
       "    }\n",
       "\n",
       "    .dataframe thead th {\n",
       "        text-align: right;\n",
       "    }\n",
       "</style>\n",
       "<table border=\"1\" class=\"dataframe\">\n",
       "  <thead>\n",
       "    <tr style=\"text-align: right;\">\n",
       "      <th></th>\n",
       "      <th>Customer ID</th>\n",
       "      <th>Age</th>\n",
       "      <th>Gender</th>\n",
       "      <th>Education</th>\n",
       "      <th>Review</th>\n",
       "      <th>Purchased</th>\n",
       "    </tr>\n",
       "  </thead>\n",
       "  <tbody>\n",
       "    <tr>\n",
       "      <th>0</th>\n",
       "      <td>1021</td>\n",
       "      <td>30</td>\n",
       "      <td>Female</td>\n",
       "      <td>School</td>\n",
       "      <td>Average</td>\n",
       "      <td>No</td>\n",
       "    </tr>\n",
       "    <tr>\n",
       "      <th>1</th>\n",
       "      <td>1022</td>\n",
       "      <td>68</td>\n",
       "      <td>Female</td>\n",
       "      <td>UG</td>\n",
       "      <td>Poor</td>\n",
       "      <td>No</td>\n",
       "    </tr>\n",
       "    <tr>\n",
       "      <th>2</th>\n",
       "      <td>1023</td>\n",
       "      <td>70</td>\n",
       "      <td>Female</td>\n",
       "      <td>PG</td>\n",
       "      <td>Good</td>\n",
       "      <td>No</td>\n",
       "    </tr>\n",
       "    <tr>\n",
       "      <th>3</th>\n",
       "      <td>1024</td>\n",
       "      <td>72</td>\n",
       "      <td>Female</td>\n",
       "      <td>PG</td>\n",
       "      <td>Good</td>\n",
       "      <td>No</td>\n",
       "    </tr>\n",
       "    <tr>\n",
       "      <th>4</th>\n",
       "      <td>1025</td>\n",
       "      <td>16</td>\n",
       "      <td>Female</td>\n",
       "      <td>UG</td>\n",
       "      <td>Average</td>\n",
       "      <td>No</td>\n",
       "    </tr>\n",
       "  </tbody>\n",
       "</table>\n",
       "</div>"
      ],
      "text/plain": [
       "   Customer ID  Age  Gender Education   Review Purchased\n",
       "0         1021   30  Female    School  Average        No\n",
       "1         1022   68  Female        UG     Poor        No\n",
       "2         1023   70  Female        PG     Good        No\n",
       "3         1024   72  Female        PG     Good        No\n",
       "4         1025   16  Female        UG  Average        No"
      ]
     },
     "execution_count": 3,
     "metadata": {},
     "output_type": "execute_result"
    }
   ],
   "source": [
    "purchase.head()"
   ]
  },
  {
   "cell_type": "code",
   "execution_count": 4,
   "id": "ae6b58a8",
   "metadata": {
    "execution": {
     "iopub.execute_input": "2024-06-13T06:22:40.277737Z",
     "iopub.status.busy": "2024-06-13T06:22:40.277356Z",
     "iopub.status.idle": "2024-06-13T06:22:40.302775Z",
     "shell.execute_reply": "2024-06-13T06:22:40.301221Z"
    },
    "papermill": {
     "duration": 0.036274,
     "end_time": "2024-06-13T06:22:40.305482",
     "exception": false,
     "start_time": "2024-06-13T06:22:40.269208",
     "status": "completed"
    },
    "tags": []
   },
   "outputs": [
    {
     "name": "stdout",
     "output_type": "stream",
     "text": [
      "<class 'pandas.core.frame.DataFrame'>\n",
      "RangeIndex: 50 entries, 0 to 49\n",
      "Data columns (total 6 columns):\n",
      " #   Column       Non-Null Count  Dtype \n",
      "---  ------       --------------  ----- \n",
      " 0   Customer ID  50 non-null     int64 \n",
      " 1   Age          50 non-null     int64 \n",
      " 2   Gender       50 non-null     object\n",
      " 3   Education    50 non-null     object\n",
      " 4   Review       50 non-null     object\n",
      " 5   Purchased    50 non-null     object\n",
      "dtypes: int64(2), object(4)\n",
      "memory usage: 2.5+ KB\n"
     ]
    }
   ],
   "source": [
    "purchase.info()"
   ]
  },
  {
   "cell_type": "code",
   "execution_count": 5,
   "id": "863fe477",
   "metadata": {
    "execution": {
     "iopub.execute_input": "2024-06-13T06:22:40.321622Z",
     "iopub.status.busy": "2024-06-13T06:22:40.321188Z",
     "iopub.status.idle": "2024-06-13T06:22:40.343281Z",
     "shell.execute_reply": "2024-06-13T06:22:40.341955Z"
    },
    "papermill": {
     "duration": 0.033144,
     "end_time": "2024-06-13T06:22:40.345838",
     "exception": false,
     "start_time": "2024-06-13T06:22:40.312694",
     "status": "completed"
    },
    "tags": []
   },
   "outputs": [
    {
     "data": {
      "text/html": [
       "<div>\n",
       "<style scoped>\n",
       "    .dataframe tbody tr th:only-of-type {\n",
       "        vertical-align: middle;\n",
       "    }\n",
       "\n",
       "    .dataframe tbody tr th {\n",
       "        vertical-align: top;\n",
       "    }\n",
       "\n",
       "    .dataframe thead th {\n",
       "        text-align: right;\n",
       "    }\n",
       "</style>\n",
       "<table border=\"1\" class=\"dataframe\">\n",
       "  <thead>\n",
       "    <tr style=\"text-align: right;\">\n",
       "      <th></th>\n",
       "      <th>Customer ID</th>\n",
       "      <th>Age</th>\n",
       "    </tr>\n",
       "  </thead>\n",
       "  <tbody>\n",
       "    <tr>\n",
       "      <th>count</th>\n",
       "      <td>50.00000</td>\n",
       "      <td>50.000000</td>\n",
       "    </tr>\n",
       "    <tr>\n",
       "      <th>mean</th>\n",
       "      <td>1045.50000</td>\n",
       "      <td>54.160000</td>\n",
       "    </tr>\n",
       "    <tr>\n",
       "      <th>std</th>\n",
       "      <td>14.57738</td>\n",
       "      <td>25.658161</td>\n",
       "    </tr>\n",
       "    <tr>\n",
       "      <th>min</th>\n",
       "      <td>1021.00000</td>\n",
       "      <td>15.000000</td>\n",
       "    </tr>\n",
       "    <tr>\n",
       "      <th>25%</th>\n",
       "      <td>1033.25000</td>\n",
       "      <td>30.250000</td>\n",
       "    </tr>\n",
       "    <tr>\n",
       "      <th>50%</th>\n",
       "      <td>1045.50000</td>\n",
       "      <td>57.000000</td>\n",
       "    </tr>\n",
       "    <tr>\n",
       "      <th>75%</th>\n",
       "      <td>1057.75000</td>\n",
       "      <td>74.000000</td>\n",
       "    </tr>\n",
       "    <tr>\n",
       "      <th>max</th>\n",
       "      <td>1070.00000</td>\n",
       "      <td>98.000000</td>\n",
       "    </tr>\n",
       "  </tbody>\n",
       "</table>\n",
       "</div>"
      ],
      "text/plain": [
       "       Customer ID        Age\n",
       "count     50.00000  50.000000\n",
       "mean    1045.50000  54.160000\n",
       "std       14.57738  25.658161\n",
       "min     1021.00000  15.000000\n",
       "25%     1033.25000  30.250000\n",
       "50%     1045.50000  57.000000\n",
       "75%     1057.75000  74.000000\n",
       "max     1070.00000  98.000000"
      ]
     },
     "execution_count": 5,
     "metadata": {},
     "output_type": "execute_result"
    }
   ],
   "source": [
    "purchase.describe()"
   ]
  },
  {
   "cell_type": "code",
   "execution_count": 6,
   "id": "6fb578dd",
   "metadata": {
    "execution": {
     "iopub.execute_input": "2024-06-13T06:22:40.362635Z",
     "iopub.status.busy": "2024-06-13T06:22:40.362255Z",
     "iopub.status.idle": "2024-06-13T06:22:40.369445Z",
     "shell.execute_reply": "2024-06-13T06:22:40.368445Z"
    },
    "papermill": {
     "duration": 0.018517,
     "end_time": "2024-06-13T06:22:40.371841",
     "exception": false,
     "start_time": "2024-06-13T06:22:40.353324",
     "status": "completed"
    },
    "tags": []
   },
   "outputs": [
    {
     "data": {
      "text/plain": [
       "Index(['Customer ID', 'Age', 'Gender', 'Education', 'Review', 'Purchased'], dtype='object')"
      ]
     },
     "execution_count": 6,
     "metadata": {},
     "output_type": "execute_result"
    }
   ],
   "source": [
    "purchase.columns"
   ]
  },
  {
   "cell_type": "code",
   "execution_count": 7,
   "id": "951b8efd",
   "metadata": {
    "execution": {
     "iopub.execute_input": "2024-06-13T06:22:40.389543Z",
     "iopub.status.busy": "2024-06-13T06:22:40.388511Z",
     "iopub.status.idle": "2024-06-13T06:22:40.397280Z",
     "shell.execute_reply": "2024-06-13T06:22:40.396277Z"
    },
    "papermill": {
     "duration": 0.020141,
     "end_time": "2024-06-13T06:22:40.399503",
     "exception": false,
     "start_time": "2024-06-13T06:22:40.379362",
     "status": "completed"
    },
    "tags": []
   },
   "outputs": [
    {
     "data": {
      "text/plain": [
       "0    No\n",
       "1    No\n",
       "2    No\n",
       "3    No\n",
       "4    No\n",
       "Name: Purchased, dtype: object"
      ]
     },
     "execution_count": 7,
     "metadata": {},
     "output_type": "execute_result"
    }
   ],
   "source": [
    "y = purchase['Purchased']\n",
    "y.head()"
   ]
  },
  {
   "cell_type": "code",
   "execution_count": 8,
   "id": "fddbf94d",
   "metadata": {
    "execution": {
     "iopub.execute_input": "2024-06-13T06:22:40.416460Z",
     "iopub.status.busy": "2024-06-13T06:22:40.416063Z",
     "iopub.status.idle": "2024-06-13T06:22:40.430504Z",
     "shell.execute_reply": "2024-06-13T06:22:40.429474Z"
    },
    "papermill": {
     "duration": 0.025757,
     "end_time": "2024-06-13T06:22:40.432945",
     "exception": false,
     "start_time": "2024-06-13T06:22:40.407188",
     "status": "completed"
    },
    "tags": []
   },
   "outputs": [
    {
     "data": {
      "text/html": [
       "<div>\n",
       "<style scoped>\n",
       "    .dataframe tbody tr th:only-of-type {\n",
       "        vertical-align: middle;\n",
       "    }\n",
       "\n",
       "    .dataframe tbody tr th {\n",
       "        vertical-align: top;\n",
       "    }\n",
       "\n",
       "    .dataframe thead th {\n",
       "        text-align: right;\n",
       "    }\n",
       "</style>\n",
       "<table border=\"1\" class=\"dataframe\">\n",
       "  <thead>\n",
       "    <tr style=\"text-align: right;\">\n",
       "      <th></th>\n",
       "      <th>Age</th>\n",
       "      <th>Gender</th>\n",
       "      <th>Education</th>\n",
       "      <th>Review</th>\n",
       "    </tr>\n",
       "  </thead>\n",
       "  <tbody>\n",
       "    <tr>\n",
       "      <th>0</th>\n",
       "      <td>30</td>\n",
       "      <td>Female</td>\n",
       "      <td>School</td>\n",
       "      <td>Average</td>\n",
       "    </tr>\n",
       "    <tr>\n",
       "      <th>1</th>\n",
       "      <td>68</td>\n",
       "      <td>Female</td>\n",
       "      <td>UG</td>\n",
       "      <td>Poor</td>\n",
       "    </tr>\n",
       "    <tr>\n",
       "      <th>2</th>\n",
       "      <td>70</td>\n",
       "      <td>Female</td>\n",
       "      <td>PG</td>\n",
       "      <td>Good</td>\n",
       "    </tr>\n",
       "    <tr>\n",
       "      <th>3</th>\n",
       "      <td>72</td>\n",
       "      <td>Female</td>\n",
       "      <td>PG</td>\n",
       "      <td>Good</td>\n",
       "    </tr>\n",
       "    <tr>\n",
       "      <th>4</th>\n",
       "      <td>16</td>\n",
       "      <td>Female</td>\n",
       "      <td>UG</td>\n",
       "      <td>Average</td>\n",
       "    </tr>\n",
       "  </tbody>\n",
       "</table>\n",
       "</div>"
      ],
      "text/plain": [
       "   Age  Gender Education   Review\n",
       "0   30  Female    School  Average\n",
       "1   68  Female        UG     Poor\n",
       "2   70  Female        PG     Good\n",
       "3   72  Female        PG     Good\n",
       "4   16  Female        UG  Average"
      ]
     },
     "execution_count": 8,
     "metadata": {},
     "output_type": "execute_result"
    }
   ],
   "source": [
    "X = purchase.drop(['Purchased', 'Customer ID'], axis=1)\n",
    "X.head()"
   ]
  },
  {
   "cell_type": "code",
   "execution_count": 9,
   "id": "d048422c",
   "metadata": {
    "execution": {
     "iopub.execute_input": "2024-06-13T06:22:40.450748Z",
     "iopub.status.busy": "2024-06-13T06:22:40.450393Z",
     "iopub.status.idle": "2024-06-13T06:22:40.460743Z",
     "shell.execute_reply": "2024-06-13T06:22:40.459556Z"
    },
    "papermill": {
     "duration": 0.022581,
     "end_time": "2024-06-13T06:22:40.463574",
     "exception": false,
     "start_time": "2024-06-13T06:22:40.440993",
     "status": "completed"
    },
    "tags": []
   },
   "outputs": [
    {
     "name": "stderr",
     "output_type": "stream",
     "text": [
      "/tmp/ipykernel_18/2223313754.py:1: FutureWarning: Downcasting behavior in `replace` is deprecated and will be removed in a future version. To retain the old behavior, explicitly call `result.infer_objects(copy=False)`. To opt-in to the future behavior, set `pd.set_option('future.no_silent_downcasting', True)`\n",
      "  X.replace({'Review':{'Poor':0,'Average':1,'Good':2}},inplace=True)\n",
      "/tmp/ipykernel_18/2223313754.py:2: FutureWarning: Downcasting behavior in `replace` is deprecated and will be removed in a future version. To retain the old behavior, explicitly call `result.infer_objects(copy=False)`. To opt-in to the future behavior, set `pd.set_option('future.no_silent_downcasting', True)`\n",
      "  X.replace({'Education':{'School':0,'UG':1,'PG':2}},inplace=True)\n",
      "/tmp/ipykernel_18/2223313754.py:3: FutureWarning: Downcasting behavior in `replace` is deprecated and will be removed in a future version. To retain the old behavior, explicitly call `result.infer_objects(copy=False)`. To opt-in to the future behavior, set `pd.set_option('future.no_silent_downcasting', True)`\n",
      "  X.replace({'Gender':{'Male': 0,'Female':1}},inplace=True)\n"
     ]
    }
   ],
   "source": [
    "X.replace({'Review':{'Poor':0,'Average':1,'Good':2}},inplace=True)\n",
    "X.replace({'Education':{'School':0,'UG':1,'PG':2}},inplace=True)\n",
    "X.replace({'Gender':{'Male': 0,'Female':1}},inplace=True)"
   ]
  },
  {
   "cell_type": "code",
   "execution_count": 10,
   "id": "3d98a056",
   "metadata": {
    "execution": {
     "iopub.execute_input": "2024-06-13T06:22:40.481744Z",
     "iopub.status.busy": "2024-06-13T06:22:40.481069Z",
     "iopub.status.idle": "2024-06-13T06:22:40.492217Z",
     "shell.execute_reply": "2024-06-13T06:22:40.491166Z"
    },
    "papermill": {
     "duration": 0.02292,
     "end_time": "2024-06-13T06:22:40.494516",
     "exception": false,
     "start_time": "2024-06-13T06:22:40.471596",
     "status": "completed"
    },
    "tags": []
   },
   "outputs": [
    {
     "data": {
      "text/html": [
       "<div>\n",
       "<style scoped>\n",
       "    .dataframe tbody tr th:only-of-type {\n",
       "        vertical-align: middle;\n",
       "    }\n",
       "\n",
       "    .dataframe tbody tr th {\n",
       "        vertical-align: top;\n",
       "    }\n",
       "\n",
       "    .dataframe thead th {\n",
       "        text-align: right;\n",
       "    }\n",
       "</style>\n",
       "<table border=\"1\" class=\"dataframe\">\n",
       "  <thead>\n",
       "    <tr style=\"text-align: right;\">\n",
       "      <th></th>\n",
       "      <th>Age</th>\n",
       "      <th>Gender</th>\n",
       "      <th>Education</th>\n",
       "      <th>Review</th>\n",
       "    </tr>\n",
       "  </thead>\n",
       "  <tbody>\n",
       "    <tr>\n",
       "      <th>0</th>\n",
       "      <td>30</td>\n",
       "      <td>1</td>\n",
       "      <td>0</td>\n",
       "      <td>1</td>\n",
       "    </tr>\n",
       "    <tr>\n",
       "      <th>1</th>\n",
       "      <td>68</td>\n",
       "      <td>1</td>\n",
       "      <td>1</td>\n",
       "      <td>0</td>\n",
       "    </tr>\n",
       "    <tr>\n",
       "      <th>2</th>\n",
       "      <td>70</td>\n",
       "      <td>1</td>\n",
       "      <td>2</td>\n",
       "      <td>2</td>\n",
       "    </tr>\n",
       "    <tr>\n",
       "      <th>3</th>\n",
       "      <td>72</td>\n",
       "      <td>1</td>\n",
       "      <td>2</td>\n",
       "      <td>2</td>\n",
       "    </tr>\n",
       "    <tr>\n",
       "      <th>4</th>\n",
       "      <td>16</td>\n",
       "      <td>1</td>\n",
       "      <td>1</td>\n",
       "      <td>1</td>\n",
       "    </tr>\n",
       "  </tbody>\n",
       "</table>\n",
       "</div>"
      ],
      "text/plain": [
       "   Age  Gender  Education  Review\n",
       "0   30       1          0       1\n",
       "1   68       1          1       0\n",
       "2   70       1          2       2\n",
       "3   72       1          2       2\n",
       "4   16       1          1       1"
      ]
     },
     "execution_count": 10,
     "metadata": {},
     "output_type": "execute_result"
    }
   ],
   "source": [
    "X.head()"
   ]
  },
  {
   "cell_type": "code",
   "execution_count": 11,
   "id": "9abdebad",
   "metadata": {
    "execution": {
     "iopub.execute_input": "2024-06-13T06:22:40.513294Z",
     "iopub.status.busy": "2024-06-13T06:22:40.512375Z",
     "iopub.status.idle": "2024-06-13T06:22:41.844402Z",
     "shell.execute_reply": "2024-06-13T06:22:41.843141Z"
    },
    "papermill": {
     "duration": 1.34458,
     "end_time": "2024-06-13T06:22:41.847331",
     "exception": false,
     "start_time": "2024-06-13T06:22:40.502751",
     "status": "completed"
    },
    "tags": []
   },
   "outputs": [],
   "source": [
    "from sklearn.model_selection import train_test_split\n",
    "X_train, X_test, y_train, y_test = train_test_split(X,y, train_size=0.8, random_state=2529)"
   ]
  },
  {
   "cell_type": "code",
   "execution_count": 12,
   "id": "351975bd",
   "metadata": {
    "execution": {
     "iopub.execute_input": "2024-06-13T06:22:41.866464Z",
     "iopub.status.busy": "2024-06-13T06:22:41.865505Z",
     "iopub.status.idle": "2024-06-13T06:22:41.872762Z",
     "shell.execute_reply": "2024-06-13T06:22:41.871759Z"
    },
    "papermill": {
     "duration": 0.019592,
     "end_time": "2024-06-13T06:22:41.875343",
     "exception": false,
     "start_time": "2024-06-13T06:22:41.855751",
     "status": "completed"
    },
    "tags": []
   },
   "outputs": [
    {
     "data": {
      "text/plain": [
       "((40, 4), (10, 4), (40,), (10,))"
      ]
     },
     "execution_count": 12,
     "metadata": {},
     "output_type": "execute_result"
    }
   ],
   "source": [
    "X_train.shape, X_test.shape, y_train.shape, y_test.shape"
   ]
  },
  {
   "cell_type": "code",
   "execution_count": 13,
   "id": "348d47be",
   "metadata": {
    "execution": {
     "iopub.execute_input": "2024-06-13T06:22:41.894130Z",
     "iopub.status.busy": "2024-06-13T06:22:41.893768Z",
     "iopub.status.idle": "2024-06-13T06:22:42.245659Z",
     "shell.execute_reply": "2024-06-13T06:22:42.244485Z"
    },
    "papermill": {
     "duration": 0.3646,
     "end_time": "2024-06-13T06:22:42.248474",
     "exception": false,
     "start_time": "2024-06-13T06:22:41.883874",
     "status": "completed"
    },
    "tags": []
   },
   "outputs": [],
   "source": [
    "from sklearn.ensemble import RandomForestClassifier\n",
    "model = RandomForestClassifier()"
   ]
  },
  {
   "cell_type": "code",
   "execution_count": 14,
   "id": "f606605e",
   "metadata": {
    "execution": {
     "iopub.execute_input": "2024-06-13T06:22:42.267758Z",
     "iopub.status.busy": "2024-06-13T06:22:42.266895Z",
     "iopub.status.idle": "2024-06-13T06:22:42.496332Z",
     "shell.execute_reply": "2024-06-13T06:22:42.495263Z"
    },
    "papermill": {
     "duration": 0.241859,
     "end_time": "2024-06-13T06:22:42.498838",
     "exception": false,
     "start_time": "2024-06-13T06:22:42.256979",
     "status": "completed"
    },
    "tags": []
   },
   "outputs": [
    {
     "data": {
      "text/html": [
       "<style>#sk-container-id-1 {color: black;background-color: white;}#sk-container-id-1 pre{padding: 0;}#sk-container-id-1 div.sk-toggleable {background-color: white;}#sk-container-id-1 label.sk-toggleable__label {cursor: pointer;display: block;width: 100%;margin-bottom: 0;padding: 0.3em;box-sizing: border-box;text-align: center;}#sk-container-id-1 label.sk-toggleable__label-arrow:before {content: \"▸\";float: left;margin-right: 0.25em;color: #696969;}#sk-container-id-1 label.sk-toggleable__label-arrow:hover:before {color: black;}#sk-container-id-1 div.sk-estimator:hover label.sk-toggleable__label-arrow:before {color: black;}#sk-container-id-1 div.sk-toggleable__content {max-height: 0;max-width: 0;overflow: hidden;text-align: left;background-color: #f0f8ff;}#sk-container-id-1 div.sk-toggleable__content pre {margin: 0.2em;color: black;border-radius: 0.25em;background-color: #f0f8ff;}#sk-container-id-1 input.sk-toggleable__control:checked~div.sk-toggleable__content {max-height: 200px;max-width: 100%;overflow: auto;}#sk-container-id-1 input.sk-toggleable__control:checked~label.sk-toggleable__label-arrow:before {content: \"▾\";}#sk-container-id-1 div.sk-estimator input.sk-toggleable__control:checked~label.sk-toggleable__label {background-color: #d4ebff;}#sk-container-id-1 div.sk-label input.sk-toggleable__control:checked~label.sk-toggleable__label {background-color: #d4ebff;}#sk-container-id-1 input.sk-hidden--visually {border: 0;clip: rect(1px 1px 1px 1px);clip: rect(1px, 1px, 1px, 1px);height: 1px;margin: -1px;overflow: hidden;padding: 0;position: absolute;width: 1px;}#sk-container-id-1 div.sk-estimator {font-family: monospace;background-color: #f0f8ff;border: 1px dotted black;border-radius: 0.25em;box-sizing: border-box;margin-bottom: 0.5em;}#sk-container-id-1 div.sk-estimator:hover {background-color: #d4ebff;}#sk-container-id-1 div.sk-parallel-item::after {content: \"\";width: 100%;border-bottom: 1px solid gray;flex-grow: 1;}#sk-container-id-1 div.sk-label:hover label.sk-toggleable__label {background-color: #d4ebff;}#sk-container-id-1 div.sk-serial::before {content: \"\";position: absolute;border-left: 1px solid gray;box-sizing: border-box;top: 0;bottom: 0;left: 50%;z-index: 0;}#sk-container-id-1 div.sk-serial {display: flex;flex-direction: column;align-items: center;background-color: white;padding-right: 0.2em;padding-left: 0.2em;position: relative;}#sk-container-id-1 div.sk-item {position: relative;z-index: 1;}#sk-container-id-1 div.sk-parallel {display: flex;align-items: stretch;justify-content: center;background-color: white;position: relative;}#sk-container-id-1 div.sk-item::before, #sk-container-id-1 div.sk-parallel-item::before {content: \"\";position: absolute;border-left: 1px solid gray;box-sizing: border-box;top: 0;bottom: 0;left: 50%;z-index: -1;}#sk-container-id-1 div.sk-parallel-item {display: flex;flex-direction: column;z-index: 1;position: relative;background-color: white;}#sk-container-id-1 div.sk-parallel-item:first-child::after {align-self: flex-end;width: 50%;}#sk-container-id-1 div.sk-parallel-item:last-child::after {align-self: flex-start;width: 50%;}#sk-container-id-1 div.sk-parallel-item:only-child::after {width: 0;}#sk-container-id-1 div.sk-dashed-wrapped {border: 1px dashed gray;margin: 0 0.4em 0.5em 0.4em;box-sizing: border-box;padding-bottom: 0.4em;background-color: white;}#sk-container-id-1 div.sk-label label {font-family: monospace;font-weight: bold;display: inline-block;line-height: 1.2em;}#sk-container-id-1 div.sk-label-container {text-align: center;}#sk-container-id-1 div.sk-container {/* jupyter's `normalize.less` sets `[hidden] { display: none; }` but bootstrap.min.css set `[hidden] { display: none !important; }` so we also need the `!important` here to be able to override the default hidden behavior on the sphinx rendered scikit-learn.org. See: https://github.com/scikit-learn/scikit-learn/issues/21755 */display: inline-block !important;position: relative;}#sk-container-id-1 div.sk-text-repr-fallback {display: none;}</style><div id=\"sk-container-id-1\" class=\"sk-top-container\"><div class=\"sk-text-repr-fallback\"><pre>RandomForestClassifier()</pre><b>In a Jupyter environment, please rerun this cell to show the HTML representation or trust the notebook. <br />On GitHub, the HTML representation is unable to render, please try loading this page with nbviewer.org.</b></div><div class=\"sk-container\" hidden><div class=\"sk-item\"><div class=\"sk-estimator sk-toggleable\"><input class=\"sk-toggleable__control sk-hidden--visually\" id=\"sk-estimator-id-1\" type=\"checkbox\" checked><label for=\"sk-estimator-id-1\" class=\"sk-toggleable__label sk-toggleable__label-arrow\">RandomForestClassifier</label><div class=\"sk-toggleable__content\"><pre>RandomForestClassifier()</pre></div></div></div></div></div>"
      ],
      "text/plain": [
       "RandomForestClassifier()"
      ]
     },
     "execution_count": 14,
     "metadata": {},
     "output_type": "execute_result"
    }
   ],
   "source": [
    "model.fit(X_train, y_train)"
   ]
  },
  {
   "cell_type": "code",
   "execution_count": 15,
   "id": "06ed543d",
   "metadata": {
    "execution": {
     "iopub.execute_input": "2024-06-13T06:22:42.517885Z",
     "iopub.status.busy": "2024-06-13T06:22:42.517524Z",
     "iopub.status.idle": "2024-06-13T06:22:42.534418Z",
     "shell.execute_reply": "2024-06-13T06:22:42.533422Z"
    },
    "papermill": {
     "duration": 0.029345,
     "end_time": "2024-06-13T06:22:42.536899",
     "exception": false,
     "start_time": "2024-06-13T06:22:42.507554",
     "status": "completed"
    },
    "tags": []
   },
   "outputs": [
    {
     "data": {
      "text/plain": [
       "array(['No', 'Yes', 'No', 'No', 'Yes', 'Yes', 'Yes', 'No', 'No', 'Yes'],\n",
       "      dtype=object)"
      ]
     },
     "execution_count": 15,
     "metadata": {},
     "output_type": "execute_result"
    }
   ],
   "source": [
    "y_pred = model.predict(X_test)\n",
    "y_pred"
   ]
  },
  {
   "cell_type": "code",
   "execution_count": 16,
   "id": "288a031f",
   "metadata": {
    "execution": {
     "iopub.execute_input": "2024-06-13T06:22:42.557844Z",
     "iopub.status.busy": "2024-06-13T06:22:42.556751Z",
     "iopub.status.idle": "2024-06-13T06:22:42.562159Z",
     "shell.execute_reply": "2024-06-13T06:22:42.561116Z"
    },
    "papermill": {
     "duration": 0.018786,
     "end_time": "2024-06-13T06:22:42.564620",
     "exception": false,
     "start_time": "2024-06-13T06:22:42.545834",
     "status": "completed"
    },
    "tags": []
   },
   "outputs": [],
   "source": [
    "from sklearn.metrics import confusion_matrix, accuracy_score, classification_report"
   ]
  },
  {
   "cell_type": "code",
   "execution_count": 17,
   "id": "a48fc085",
   "metadata": {
    "execution": {
     "iopub.execute_input": "2024-06-13T06:22:42.584683Z",
     "iopub.status.busy": "2024-06-13T06:22:42.584287Z",
     "iopub.status.idle": "2024-06-13T06:22:42.594296Z",
     "shell.execute_reply": "2024-06-13T06:22:42.593011Z"
    },
    "papermill": {
     "duration": 0.023195,
     "end_time": "2024-06-13T06:22:42.596861",
     "exception": false,
     "start_time": "2024-06-13T06:22:42.573666",
     "status": "completed"
    },
    "tags": []
   },
   "outputs": [
    {
     "data": {
      "text/plain": [
       "array([[2, 1],\n",
       "       [3, 4]])"
      ]
     },
     "execution_count": 17,
     "metadata": {},
     "output_type": "execute_result"
    }
   ],
   "source": [
    "confusion_matrix(y_test, y_pred)"
   ]
  },
  {
   "cell_type": "code",
   "execution_count": 18,
   "id": "b8500a0f",
   "metadata": {
    "execution": {
     "iopub.execute_input": "2024-06-13T06:22:42.618095Z",
     "iopub.status.busy": "2024-06-13T06:22:42.617269Z",
     "iopub.status.idle": "2024-06-13T06:22:42.625895Z",
     "shell.execute_reply": "2024-06-13T06:22:42.624826Z"
    },
    "papermill": {
     "duration": 0.021728,
     "end_time": "2024-06-13T06:22:42.628336",
     "exception": false,
     "start_time": "2024-06-13T06:22:42.606608",
     "status": "completed"
    },
    "tags": []
   },
   "outputs": [
    {
     "data": {
      "text/plain": [
       "0.6"
      ]
     },
     "execution_count": 18,
     "metadata": {},
     "output_type": "execute_result"
    }
   ],
   "source": [
    "accuracy_score(y_test, y_pred)"
   ]
  },
  {
   "cell_type": "code",
   "execution_count": 19,
   "id": "9eee4930",
   "metadata": {
    "execution": {
     "iopub.execute_input": "2024-06-13T06:22:42.648505Z",
     "iopub.status.busy": "2024-06-13T06:22:42.648085Z",
     "iopub.status.idle": "2024-06-13T06:22:42.665411Z",
     "shell.execute_reply": "2024-06-13T06:22:42.663681Z"
    },
    "papermill": {
     "duration": 0.030365,
     "end_time": "2024-06-13T06:22:42.668007",
     "exception": false,
     "start_time": "2024-06-13T06:22:42.637642",
     "status": "completed"
    },
    "tags": []
   },
   "outputs": [
    {
     "name": "stdout",
     "output_type": "stream",
     "text": [
      "              precision    recall  f1-score   support\n",
      "\n",
      "          No       0.40      0.67      0.50         3\n",
      "         Yes       0.80      0.57      0.67         7\n",
      "\n",
      "    accuracy                           0.60        10\n",
      "   macro avg       0.60      0.62      0.58        10\n",
      "weighted avg       0.68      0.60      0.62        10\n",
      "\n"
     ]
    }
   ],
   "source": [
    "print(classification_report(y_test, y_pred))"
   ]
  }
 ],
 "metadata": {
  "kaggle": {
   "accelerator": "none",
   "dataSources": [],
   "dockerImageVersionId": 30732,
   "isGpuEnabled": false,
   "isInternetEnabled": true,
   "language": "python",
   "sourceType": "notebook"
  },
  "kernelspec": {
   "display_name": "Python 3",
   "language": "python",
   "name": "python3"
  },
  "language_info": {
   "codemirror_mode": {
    "name": "ipython",
    "version": 3
   },
   "file_extension": ".py",
   "mimetype": "text/x-python",
   "name": "python",
   "nbconvert_exporter": "python",
   "pygments_lexer": "ipython3",
   "version": "3.10.13"
  },
  "papermill": {
   "default_parameters": {},
   "duration": 8.000546,
   "end_time": "2024-06-13T06:22:43.298131",
   "environment_variables": {},
   "exception": null,
   "input_path": "__notebook__.ipynb",
   "output_path": "__notebook__.ipynb",
   "parameters": {},
   "start_time": "2024-06-13T06:22:35.297585",
   "version": "2.5.0"
  }
 },
 "nbformat": 4,
 "nbformat_minor": 5
}
