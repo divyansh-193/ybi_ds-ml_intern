{
 "cells": [
  {
   "cell_type": "code",
   "execution_count": 1,
   "id": "67d4105a",
   "metadata": {
    "_cell_guid": "b1076dfc-b9ad-4769-8c92-a6c4dae69d19",
    "_uuid": "8f2839f25d086af736a60e9eeb907d3b93b6e0e5",
    "execution": {
     "iopub.execute_input": "2024-06-13T06:10:30.029875Z",
     "iopub.status.busy": "2024-06-13T06:10:30.029430Z",
     "iopub.status.idle": "2024-06-13T06:10:31.064356Z",
     "shell.execute_reply": "2024-06-13T06:10:31.062633Z"
    },
    "papermill": {
     "duration": 1.047426,
     "end_time": "2024-06-13T06:10:31.067271",
     "exception": false,
     "start_time": "2024-06-13T06:10:30.019845",
     "status": "completed"
    },
    "tags": []
   },
   "outputs": [],
   "source": [
    "import pandas as pd"
   ]
  },
  {
   "cell_type": "code",
   "execution_count": 2,
   "id": "7e2a9cd4",
   "metadata": {
    "execution": {
     "iopub.execute_input": "2024-06-13T06:10:31.080644Z",
     "iopub.status.busy": "2024-06-13T06:10:31.079535Z",
     "iopub.status.idle": "2024-06-13T06:10:31.502570Z",
     "shell.execute_reply": "2024-06-13T06:10:31.501290Z"
    },
    "papermill": {
     "duration": 0.431838,
     "end_time": "2024-06-13T06:10:31.505090",
     "exception": false,
     "start_time": "2024-06-13T06:10:31.073252",
     "status": "completed"
    },
    "tags": []
   },
   "outputs": [
    {
     "data": {
      "text/html": [
       "<div>\n",
       "<style scoped>\n",
       "    .dataframe tbody tr th:only-of-type {\n",
       "        vertical-align: middle;\n",
       "    }\n",
       "\n",
       "    .dataframe tbody tr th {\n",
       "        vertical-align: top;\n",
       "    }\n",
       "\n",
       "    .dataframe thead th {\n",
       "        text-align: right;\n",
       "    }\n",
       "</style>\n",
       "<table border=\"1\" class=\"dataframe\">\n",
       "  <thead>\n",
       "    <tr style=\"text-align: right;\">\n",
       "      <th></th>\n",
       "      <th>Category</th>\n",
       "      <th>Species</th>\n",
       "      <th>Weight</th>\n",
       "      <th>Height</th>\n",
       "      <th>Width</th>\n",
       "      <th>Length1</th>\n",
       "      <th>Length2</th>\n",
       "      <th>Length3</th>\n",
       "    </tr>\n",
       "  </thead>\n",
       "  <tbody>\n",
       "    <tr>\n",
       "      <th>0</th>\n",
       "      <td>1</td>\n",
       "      <td>Bream</td>\n",
       "      <td>242.0</td>\n",
       "      <td>11.5200</td>\n",
       "      <td>4.0200</td>\n",
       "      <td>23.2</td>\n",
       "      <td>25.4</td>\n",
       "      <td>30.0</td>\n",
       "    </tr>\n",
       "    <tr>\n",
       "      <th>1</th>\n",
       "      <td>1</td>\n",
       "      <td>Bream</td>\n",
       "      <td>290.0</td>\n",
       "      <td>12.4800</td>\n",
       "      <td>4.3056</td>\n",
       "      <td>24.0</td>\n",
       "      <td>26.3</td>\n",
       "      <td>31.2</td>\n",
       "    </tr>\n",
       "    <tr>\n",
       "      <th>2</th>\n",
       "      <td>1</td>\n",
       "      <td>Bream</td>\n",
       "      <td>340.0</td>\n",
       "      <td>12.3778</td>\n",
       "      <td>4.6961</td>\n",
       "      <td>23.9</td>\n",
       "      <td>26.5</td>\n",
       "      <td>31.1</td>\n",
       "    </tr>\n",
       "    <tr>\n",
       "      <th>3</th>\n",
       "      <td>1</td>\n",
       "      <td>Bream</td>\n",
       "      <td>363.0</td>\n",
       "      <td>12.7300</td>\n",
       "      <td>4.4555</td>\n",
       "      <td>26.3</td>\n",
       "      <td>29.0</td>\n",
       "      <td>33.5</td>\n",
       "    </tr>\n",
       "    <tr>\n",
       "      <th>4</th>\n",
       "      <td>1</td>\n",
       "      <td>Bream</td>\n",
       "      <td>430.0</td>\n",
       "      <td>12.4440</td>\n",
       "      <td>5.1340</td>\n",
       "      <td>26.5</td>\n",
       "      <td>29.0</td>\n",
       "      <td>34.0</td>\n",
       "    </tr>\n",
       "  </tbody>\n",
       "</table>\n",
       "</div>"
      ],
      "text/plain": [
       "   Category Species  Weight   Height   Width  Length1  Length2  Length3\n",
       "0         1   Bream   242.0  11.5200  4.0200     23.2     25.4     30.0\n",
       "1         1   Bream   290.0  12.4800  4.3056     24.0     26.3     31.2\n",
       "2         1   Bream   340.0  12.3778  4.6961     23.9     26.5     31.1\n",
       "3         1   Bream   363.0  12.7300  4.4555     26.3     29.0     33.5\n",
       "4         1   Bream   430.0  12.4440  5.1340     26.5     29.0     34.0"
      ]
     },
     "execution_count": 2,
     "metadata": {},
     "output_type": "execute_result"
    }
   ],
   "source": [
    "fish = pd.read_csv('https://github.com/ybifoundation/Dataset/raw/main/Fish.csv')\n",
    "fish.head()"
   ]
  },
  {
   "cell_type": "code",
   "execution_count": 3,
   "id": "b08d0747",
   "metadata": {
    "execution": {
     "iopub.execute_input": "2024-06-13T06:10:31.517137Z",
     "iopub.status.busy": "2024-06-13T06:10:31.516765Z",
     "iopub.status.idle": "2024-06-13T06:10:31.544740Z",
     "shell.execute_reply": "2024-06-13T06:10:31.543268Z"
    },
    "papermill": {
     "duration": 0.037209,
     "end_time": "2024-06-13T06:10:31.547441",
     "exception": false,
     "start_time": "2024-06-13T06:10:31.510232",
     "status": "completed"
    },
    "tags": []
   },
   "outputs": [
    {
     "name": "stdout",
     "output_type": "stream",
     "text": [
      "<class 'pandas.core.frame.DataFrame'>\n",
      "RangeIndex: 159 entries, 0 to 158\n",
      "Data columns (total 8 columns):\n",
      " #   Column    Non-Null Count  Dtype  \n",
      "---  ------    --------------  -----  \n",
      " 0   Category  159 non-null    int64  \n",
      " 1   Species   159 non-null    object \n",
      " 2   Weight    159 non-null    float64\n",
      " 3   Height    159 non-null    float64\n",
      " 4   Width     159 non-null    float64\n",
      " 5   Length1   159 non-null    float64\n",
      " 6   Length2   159 non-null    float64\n",
      " 7   Length3   159 non-null    float64\n",
      "dtypes: float64(6), int64(1), object(1)\n",
      "memory usage: 10.1+ KB\n"
     ]
    }
   ],
   "source": [
    "fish.info()"
   ]
  },
  {
   "cell_type": "code",
   "execution_count": 4,
   "id": "11967451",
   "metadata": {
    "execution": {
     "iopub.execute_input": "2024-06-13T06:10:31.559260Z",
     "iopub.status.busy": "2024-06-13T06:10:31.558893Z",
     "iopub.status.idle": "2024-06-13T06:10:31.591312Z",
     "shell.execute_reply": "2024-06-13T06:10:31.590072Z"
    },
    "papermill": {
     "duration": 0.041518,
     "end_time": "2024-06-13T06:10:31.594129",
     "exception": false,
     "start_time": "2024-06-13T06:10:31.552611",
     "status": "completed"
    },
    "tags": []
   },
   "outputs": [
    {
     "data": {
      "text/html": [
       "<div>\n",
       "<style scoped>\n",
       "    .dataframe tbody tr th:only-of-type {\n",
       "        vertical-align: middle;\n",
       "    }\n",
       "\n",
       "    .dataframe tbody tr th {\n",
       "        vertical-align: top;\n",
       "    }\n",
       "\n",
       "    .dataframe thead th {\n",
       "        text-align: right;\n",
       "    }\n",
       "</style>\n",
       "<table border=\"1\" class=\"dataframe\">\n",
       "  <thead>\n",
       "    <tr style=\"text-align: right;\">\n",
       "      <th></th>\n",
       "      <th>Category</th>\n",
       "      <th>Weight</th>\n",
       "      <th>Height</th>\n",
       "      <th>Width</th>\n",
       "      <th>Length1</th>\n",
       "      <th>Length2</th>\n",
       "      <th>Length3</th>\n",
       "    </tr>\n",
       "  </thead>\n",
       "  <tbody>\n",
       "    <tr>\n",
       "      <th>count</th>\n",
       "      <td>159.000000</td>\n",
       "      <td>159.000000</td>\n",
       "      <td>159.000000</td>\n",
       "      <td>159.000000</td>\n",
       "      <td>159.000000</td>\n",
       "      <td>159.000000</td>\n",
       "      <td>159.000000</td>\n",
       "    </tr>\n",
       "    <tr>\n",
       "      <th>mean</th>\n",
       "      <td>3.264151</td>\n",
       "      <td>398.326415</td>\n",
       "      <td>8.970994</td>\n",
       "      <td>4.417486</td>\n",
       "      <td>26.247170</td>\n",
       "      <td>28.415723</td>\n",
       "      <td>31.227044</td>\n",
       "    </tr>\n",
       "    <tr>\n",
       "      <th>std</th>\n",
       "      <td>1.704249</td>\n",
       "      <td>357.978317</td>\n",
       "      <td>4.286208</td>\n",
       "      <td>1.685804</td>\n",
       "      <td>9.996441</td>\n",
       "      <td>10.716328</td>\n",
       "      <td>11.610246</td>\n",
       "    </tr>\n",
       "    <tr>\n",
       "      <th>min</th>\n",
       "      <td>1.000000</td>\n",
       "      <td>0.000000</td>\n",
       "      <td>1.728400</td>\n",
       "      <td>1.047600</td>\n",
       "      <td>7.500000</td>\n",
       "      <td>8.400000</td>\n",
       "      <td>8.800000</td>\n",
       "    </tr>\n",
       "    <tr>\n",
       "      <th>25%</th>\n",
       "      <td>2.000000</td>\n",
       "      <td>120.000000</td>\n",
       "      <td>5.944800</td>\n",
       "      <td>3.385650</td>\n",
       "      <td>19.050000</td>\n",
       "      <td>21.000000</td>\n",
       "      <td>23.150000</td>\n",
       "    </tr>\n",
       "    <tr>\n",
       "      <th>50%</th>\n",
       "      <td>3.000000</td>\n",
       "      <td>273.000000</td>\n",
       "      <td>7.786000</td>\n",
       "      <td>4.248500</td>\n",
       "      <td>25.200000</td>\n",
       "      <td>27.300000</td>\n",
       "      <td>29.400000</td>\n",
       "    </tr>\n",
       "    <tr>\n",
       "      <th>75%</th>\n",
       "      <td>4.500000</td>\n",
       "      <td>650.000000</td>\n",
       "      <td>12.365900</td>\n",
       "      <td>5.584500</td>\n",
       "      <td>32.700000</td>\n",
       "      <td>35.500000</td>\n",
       "      <td>39.650000</td>\n",
       "    </tr>\n",
       "    <tr>\n",
       "      <th>max</th>\n",
       "      <td>7.000000</td>\n",
       "      <td>1650.000000</td>\n",
       "      <td>18.957000</td>\n",
       "      <td>8.142000</td>\n",
       "      <td>59.000000</td>\n",
       "      <td>63.400000</td>\n",
       "      <td>68.000000</td>\n",
       "    </tr>\n",
       "  </tbody>\n",
       "</table>\n",
       "</div>"
      ],
      "text/plain": [
       "         Category       Weight      Height       Width     Length1  \\\n",
       "count  159.000000   159.000000  159.000000  159.000000  159.000000   \n",
       "mean     3.264151   398.326415    8.970994    4.417486   26.247170   \n",
       "std      1.704249   357.978317    4.286208    1.685804    9.996441   \n",
       "min      1.000000     0.000000    1.728400    1.047600    7.500000   \n",
       "25%      2.000000   120.000000    5.944800    3.385650   19.050000   \n",
       "50%      3.000000   273.000000    7.786000    4.248500   25.200000   \n",
       "75%      4.500000   650.000000   12.365900    5.584500   32.700000   \n",
       "max      7.000000  1650.000000   18.957000    8.142000   59.000000   \n",
       "\n",
       "          Length2     Length3  \n",
       "count  159.000000  159.000000  \n",
       "mean    28.415723   31.227044  \n",
       "std     10.716328   11.610246  \n",
       "min      8.400000    8.800000  \n",
       "25%     21.000000   23.150000  \n",
       "50%     27.300000   29.400000  \n",
       "75%     35.500000   39.650000  \n",
       "max     63.400000   68.000000  "
      ]
     },
     "execution_count": 4,
     "metadata": {},
     "output_type": "execute_result"
    }
   ],
   "source": [
    "fish.describe()"
   ]
  },
  {
   "cell_type": "code",
   "execution_count": 5,
   "id": "4d0fc6b5",
   "metadata": {
    "execution": {
     "iopub.execute_input": "2024-06-13T06:10:31.606539Z",
     "iopub.status.busy": "2024-06-13T06:10:31.606154Z",
     "iopub.status.idle": "2024-06-13T06:10:31.614018Z",
     "shell.execute_reply": "2024-06-13T06:10:31.612827Z"
    },
    "papermill": {
     "duration": 0.016822,
     "end_time": "2024-06-13T06:10:31.616334",
     "exception": false,
     "start_time": "2024-06-13T06:10:31.599512",
     "status": "completed"
    },
    "tags": []
   },
   "outputs": [
    {
     "data": {
      "text/plain": [
       "Index(['Category', 'Species', 'Weight', 'Height', 'Width', 'Length1',\n",
       "       'Length2', 'Length3'],\n",
       "      dtype='object')"
      ]
     },
     "execution_count": 5,
     "metadata": {},
     "output_type": "execute_result"
    }
   ],
   "source": [
    "fish.columns"
   ]
  },
  {
   "cell_type": "code",
   "execution_count": 6,
   "id": "a2f59120",
   "metadata": {
    "execution": {
     "iopub.execute_input": "2024-06-13T06:10:31.629584Z",
     "iopub.status.busy": "2024-06-13T06:10:31.629160Z",
     "iopub.status.idle": "2024-06-13T06:10:31.638627Z",
     "shell.execute_reply": "2024-06-13T06:10:31.637459Z"
    },
    "papermill": {
     "duration": 0.019166,
     "end_time": "2024-06-13T06:10:31.641098",
     "exception": false,
     "start_time": "2024-06-13T06:10:31.621932",
     "status": "completed"
    },
    "tags": []
   },
   "outputs": [
    {
     "data": {
      "text/plain": [
       "0    242.0\n",
       "1    290.0\n",
       "2    340.0\n",
       "3    363.0\n",
       "4    430.0\n",
       "Name: Weight, dtype: float64"
      ]
     },
     "execution_count": 6,
     "metadata": {},
     "output_type": "execute_result"
    }
   ],
   "source": [
    "y=fish['Weight']\n",
    "y.head()"
   ]
  },
  {
   "cell_type": "code",
   "execution_count": 7,
   "id": "b1722ca3",
   "metadata": {
    "execution": {
     "iopub.execute_input": "2024-06-13T06:10:31.654036Z",
     "iopub.status.busy": "2024-06-13T06:10:31.653647Z",
     "iopub.status.idle": "2024-06-13T06:10:31.673075Z",
     "shell.execute_reply": "2024-06-13T06:10:31.671824Z"
    },
    "papermill": {
     "duration": 0.029007,
     "end_time": "2024-06-13T06:10:31.675758",
     "exception": false,
     "start_time": "2024-06-13T06:10:31.646751",
     "status": "completed"
    },
    "tags": []
   },
   "outputs": [
    {
     "data": {
      "text/html": [
       "<div>\n",
       "<style scoped>\n",
       "    .dataframe tbody tr th:only-of-type {\n",
       "        vertical-align: middle;\n",
       "    }\n",
       "\n",
       "    .dataframe tbody tr th {\n",
       "        vertical-align: top;\n",
       "    }\n",
       "\n",
       "    .dataframe thead th {\n",
       "        text-align: right;\n",
       "    }\n",
       "</style>\n",
       "<table border=\"1\" class=\"dataframe\">\n",
       "  <thead>\n",
       "    <tr style=\"text-align: right;\">\n",
       "      <th></th>\n",
       "      <th>Category</th>\n",
       "      <th>Height</th>\n",
       "      <th>Width</th>\n",
       "      <th>Length1</th>\n",
       "      <th>Length2</th>\n",
       "      <th>Length3</th>\n",
       "    </tr>\n",
       "  </thead>\n",
       "  <tbody>\n",
       "    <tr>\n",
       "      <th>0</th>\n",
       "      <td>1</td>\n",
       "      <td>11.5200</td>\n",
       "      <td>4.0200</td>\n",
       "      <td>23.2</td>\n",
       "      <td>25.4</td>\n",
       "      <td>30.0</td>\n",
       "    </tr>\n",
       "    <tr>\n",
       "      <th>1</th>\n",
       "      <td>1</td>\n",
       "      <td>12.4800</td>\n",
       "      <td>4.3056</td>\n",
       "      <td>24.0</td>\n",
       "      <td>26.3</td>\n",
       "      <td>31.2</td>\n",
       "    </tr>\n",
       "    <tr>\n",
       "      <th>2</th>\n",
       "      <td>1</td>\n",
       "      <td>12.3778</td>\n",
       "      <td>4.6961</td>\n",
       "      <td>23.9</td>\n",
       "      <td>26.5</td>\n",
       "      <td>31.1</td>\n",
       "    </tr>\n",
       "    <tr>\n",
       "      <th>3</th>\n",
       "      <td>1</td>\n",
       "      <td>12.7300</td>\n",
       "      <td>4.4555</td>\n",
       "      <td>26.3</td>\n",
       "      <td>29.0</td>\n",
       "      <td>33.5</td>\n",
       "    </tr>\n",
       "    <tr>\n",
       "      <th>4</th>\n",
       "      <td>1</td>\n",
       "      <td>12.4440</td>\n",
       "      <td>5.1340</td>\n",
       "      <td>26.5</td>\n",
       "      <td>29.0</td>\n",
       "      <td>34.0</td>\n",
       "    </tr>\n",
       "  </tbody>\n",
       "</table>\n",
       "</div>"
      ],
      "text/plain": [
       "   Category   Height   Width  Length1  Length2  Length3\n",
       "0         1  11.5200  4.0200     23.2     25.4     30.0\n",
       "1         1  12.4800  4.3056     24.0     26.3     31.2\n",
       "2         1  12.3778  4.6961     23.9     26.5     31.1\n",
       "3         1  12.7300  4.4555     26.3     29.0     33.5\n",
       "4         1  12.4440  5.1340     26.5     29.0     34.0"
      ]
     },
     "execution_count": 7,
     "metadata": {},
     "output_type": "execute_result"
    }
   ],
   "source": [
    "X = fish[['Category','Height', 'Width', 'Length1', 'Length2', 'Length3']]\n",
    "X.head()"
   ]
  },
  {
   "cell_type": "code",
   "execution_count": 8,
   "id": "a4ba0867",
   "metadata": {
    "execution": {
     "iopub.execute_input": "2024-06-13T06:10:31.689850Z",
     "iopub.status.busy": "2024-06-13T06:10:31.688663Z",
     "iopub.status.idle": "2024-06-13T06:10:33.149731Z",
     "shell.execute_reply": "2024-06-13T06:10:33.148520Z"
    },
    "papermill": {
     "duration": 1.470954,
     "end_time": "2024-06-13T06:10:33.152432",
     "exception": false,
     "start_time": "2024-06-13T06:10:31.681478",
     "status": "completed"
    },
    "tags": []
   },
   "outputs": [],
   "source": [
    "from sklearn.model_selection import train_test_split\n",
    "X_train, X_test, y_train, y_test = train_test_split(X,y, train_size=0.7, random_state=2529)"
   ]
  },
  {
   "cell_type": "code",
   "execution_count": 9,
   "id": "81147afa",
   "metadata": {
    "execution": {
     "iopub.execute_input": "2024-06-13T06:10:33.165671Z",
     "iopub.status.busy": "2024-06-13T06:10:33.165187Z",
     "iopub.status.idle": "2024-06-13T06:10:33.173712Z",
     "shell.execute_reply": "2024-06-13T06:10:33.172318Z"
    },
    "papermill": {
     "duration": 0.017985,
     "end_time": "2024-06-13T06:10:33.176151",
     "exception": false,
     "start_time": "2024-06-13T06:10:33.158166",
     "status": "completed"
    },
    "tags": []
   },
   "outputs": [
    {
     "data": {
      "text/plain": [
       "((111, 6), (48, 6), (111,), (48,))"
      ]
     },
     "execution_count": 9,
     "metadata": {},
     "output_type": "execute_result"
    }
   ],
   "source": [
    "X_train.shape, X_test.shape, y_train.shape, y_test.shape"
   ]
  },
  {
   "cell_type": "code",
   "execution_count": 10,
   "id": "bf8eed90",
   "metadata": {
    "execution": {
     "iopub.execute_input": "2024-06-13T06:10:33.189619Z",
     "iopub.status.busy": "2024-06-13T06:10:33.189142Z",
     "iopub.status.idle": "2024-06-13T06:10:33.304134Z",
     "shell.execute_reply": "2024-06-13T06:10:33.303078Z"
    },
    "papermill": {
     "duration": 0.124861,
     "end_time": "2024-06-13T06:10:33.306977",
     "exception": false,
     "start_time": "2024-06-13T06:10:33.182116",
     "status": "completed"
    },
    "tags": []
   },
   "outputs": [],
   "source": [
    "from sklearn.linear_model import LinearRegression\n",
    "model = LinearRegression()"
   ]
  },
  {
   "cell_type": "code",
   "execution_count": 11,
   "id": "8cbd49fd",
   "metadata": {
    "execution": {
     "iopub.execute_input": "2024-06-13T06:10:33.320336Z",
     "iopub.status.busy": "2024-06-13T06:10:33.319929Z",
     "iopub.status.idle": "2024-06-13T06:10:33.354213Z",
     "shell.execute_reply": "2024-06-13T06:10:33.352680Z"
    },
    "papermill": {
     "duration": 0.044031,
     "end_time": "2024-06-13T06:10:33.356939",
     "exception": false,
     "start_time": "2024-06-13T06:10:33.312908",
     "status": "completed"
    },
    "tags": []
   },
   "outputs": [
    {
     "data": {
      "text/html": [
       "<style>#sk-container-id-1 {color: black;background-color: white;}#sk-container-id-1 pre{padding: 0;}#sk-container-id-1 div.sk-toggleable {background-color: white;}#sk-container-id-1 label.sk-toggleable__label {cursor: pointer;display: block;width: 100%;margin-bottom: 0;padding: 0.3em;box-sizing: border-box;text-align: center;}#sk-container-id-1 label.sk-toggleable__label-arrow:before {content: \"▸\";float: left;margin-right: 0.25em;color: #696969;}#sk-container-id-1 label.sk-toggleable__label-arrow:hover:before {color: black;}#sk-container-id-1 div.sk-estimator:hover label.sk-toggleable__label-arrow:before {color: black;}#sk-container-id-1 div.sk-toggleable__content {max-height: 0;max-width: 0;overflow: hidden;text-align: left;background-color: #f0f8ff;}#sk-container-id-1 div.sk-toggleable__content pre {margin: 0.2em;color: black;border-radius: 0.25em;background-color: #f0f8ff;}#sk-container-id-1 input.sk-toggleable__control:checked~div.sk-toggleable__content {max-height: 200px;max-width: 100%;overflow: auto;}#sk-container-id-1 input.sk-toggleable__control:checked~label.sk-toggleable__label-arrow:before {content: \"▾\";}#sk-container-id-1 div.sk-estimator input.sk-toggleable__control:checked~label.sk-toggleable__label {background-color: #d4ebff;}#sk-container-id-1 div.sk-label input.sk-toggleable__control:checked~label.sk-toggleable__label {background-color: #d4ebff;}#sk-container-id-1 input.sk-hidden--visually {border: 0;clip: rect(1px 1px 1px 1px);clip: rect(1px, 1px, 1px, 1px);height: 1px;margin: -1px;overflow: hidden;padding: 0;position: absolute;width: 1px;}#sk-container-id-1 div.sk-estimator {font-family: monospace;background-color: #f0f8ff;border: 1px dotted black;border-radius: 0.25em;box-sizing: border-box;margin-bottom: 0.5em;}#sk-container-id-1 div.sk-estimator:hover {background-color: #d4ebff;}#sk-container-id-1 div.sk-parallel-item::after {content: \"\";width: 100%;border-bottom: 1px solid gray;flex-grow: 1;}#sk-container-id-1 div.sk-label:hover label.sk-toggleable__label {background-color: #d4ebff;}#sk-container-id-1 div.sk-serial::before {content: \"\";position: absolute;border-left: 1px solid gray;box-sizing: border-box;top: 0;bottom: 0;left: 50%;z-index: 0;}#sk-container-id-1 div.sk-serial {display: flex;flex-direction: column;align-items: center;background-color: white;padding-right: 0.2em;padding-left: 0.2em;position: relative;}#sk-container-id-1 div.sk-item {position: relative;z-index: 1;}#sk-container-id-1 div.sk-parallel {display: flex;align-items: stretch;justify-content: center;background-color: white;position: relative;}#sk-container-id-1 div.sk-item::before, #sk-container-id-1 div.sk-parallel-item::before {content: \"\";position: absolute;border-left: 1px solid gray;box-sizing: border-box;top: 0;bottom: 0;left: 50%;z-index: -1;}#sk-container-id-1 div.sk-parallel-item {display: flex;flex-direction: column;z-index: 1;position: relative;background-color: white;}#sk-container-id-1 div.sk-parallel-item:first-child::after {align-self: flex-end;width: 50%;}#sk-container-id-1 div.sk-parallel-item:last-child::after {align-self: flex-start;width: 50%;}#sk-container-id-1 div.sk-parallel-item:only-child::after {width: 0;}#sk-container-id-1 div.sk-dashed-wrapped {border: 1px dashed gray;margin: 0 0.4em 0.5em 0.4em;box-sizing: border-box;padding-bottom: 0.4em;background-color: white;}#sk-container-id-1 div.sk-label label {font-family: monospace;font-weight: bold;display: inline-block;line-height: 1.2em;}#sk-container-id-1 div.sk-label-container {text-align: center;}#sk-container-id-1 div.sk-container {/* jupyter's `normalize.less` sets `[hidden] { display: none; }` but bootstrap.min.css set `[hidden] { display: none !important; }` so we also need the `!important` here to be able to override the default hidden behavior on the sphinx rendered scikit-learn.org. See: https://github.com/scikit-learn/scikit-learn/issues/21755 */display: inline-block !important;position: relative;}#sk-container-id-1 div.sk-text-repr-fallback {display: none;}</style><div id=\"sk-container-id-1\" class=\"sk-top-container\"><div class=\"sk-text-repr-fallback\"><pre>LinearRegression()</pre><b>In a Jupyter environment, please rerun this cell to show the HTML representation or trust the notebook. <br />On GitHub, the HTML representation is unable to render, please try loading this page with nbviewer.org.</b></div><div class=\"sk-container\" hidden><div class=\"sk-item\"><div class=\"sk-estimator sk-toggleable\"><input class=\"sk-toggleable__control sk-hidden--visually\" id=\"sk-estimator-id-1\" type=\"checkbox\" checked><label for=\"sk-estimator-id-1\" class=\"sk-toggleable__label sk-toggleable__label-arrow\">LinearRegression</label><div class=\"sk-toggleable__content\"><pre>LinearRegression()</pre></div></div></div></div></div>"
      ],
      "text/plain": [
       "LinearRegression()"
      ]
     },
     "execution_count": 11,
     "metadata": {},
     "output_type": "execute_result"
    }
   ],
   "source": [
    "model.fit(X_train, y_train)"
   ]
  },
  {
   "cell_type": "code",
   "execution_count": 12,
   "id": "ba9e9ac9",
   "metadata": {
    "execution": {
     "iopub.execute_input": "2024-06-13T06:10:33.370847Z",
     "iopub.status.busy": "2024-06-13T06:10:33.370430Z",
     "iopub.status.idle": "2024-06-13T06:10:33.377593Z",
     "shell.execute_reply": "2024-06-13T06:10:33.376462Z"
    },
    "papermill": {
     "duration": 0.016856,
     "end_time": "2024-06-13T06:10:33.379896",
     "exception": false,
     "start_time": "2024-06-13T06:10:33.363040",
     "status": "completed"
    },
    "tags": []
   },
   "outputs": [
    {
     "data": {
      "text/plain": [
       "-684.4235918478537"
      ]
     },
     "execution_count": 12,
     "metadata": {},
     "output_type": "execute_result"
    }
   ],
   "source": [
    "model.intercept_"
   ]
  },
  {
   "cell_type": "code",
   "execution_count": 13,
   "id": "02c93205",
   "metadata": {
    "execution": {
     "iopub.execute_input": "2024-06-13T06:10:33.393816Z",
     "iopub.status.busy": "2024-06-13T06:10:33.393430Z",
     "iopub.status.idle": "2024-06-13T06:10:33.400728Z",
     "shell.execute_reply": "2024-06-13T06:10:33.399498Z"
    },
    "papermill": {
     "duration": 0.016953,
     "end_time": "2024-06-13T06:10:33.403003",
     "exception": false,
     "start_time": "2024-06-13T06:10:33.386050",
     "status": "completed"
    },
    "tags": []
   },
   "outputs": [
    {
     "data": {
      "text/plain": [
       "array([ 35.19634977,  52.19372157, -37.13869125,  11.2218449 ,\n",
       "        78.11233002, -59.11783139])"
      ]
     },
     "execution_count": 13,
     "metadata": {},
     "output_type": "execute_result"
    }
   ],
   "source": [
    "model.coef_"
   ]
  },
  {
   "cell_type": "code",
   "execution_count": 14,
   "id": "667a1d26",
   "metadata": {
    "execution": {
     "iopub.execute_input": "2024-06-13T06:10:33.419314Z",
     "iopub.status.busy": "2024-06-13T06:10:33.418228Z",
     "iopub.status.idle": "2024-06-13T06:10:33.428013Z",
     "shell.execute_reply": "2024-06-13T06:10:33.426832Z"
    },
    "papermill": {
     "duration": 0.020831,
     "end_time": "2024-06-13T06:10:33.430249",
     "exception": false,
     "start_time": "2024-06-13T06:10:33.409418",
     "status": "completed"
    },
    "tags": []
   },
   "outputs": [
    {
     "data": {
      "text/plain": [
       "array([ 475.93351307,  525.81910195,   77.63275849,  881.10235121,\n",
       "        160.9685664 ,  255.94371856,  361.87029932,  358.87068094,\n",
       "        499.83411068, -150.07834151, -115.91810869,  428.65470115,\n",
       "        114.67533404,  812.51385122,  586.5071178 ,  273.38510858,\n",
       "        579.63900729,  225.18126845,  639.26068037,   85.00820599,\n",
       "        136.92159041,  -87.7778087 ,  629.97231046,  732.63097812,\n",
       "        859.8720695 , -166.76928607,  342.04209934,  722.92198147,\n",
       "        321.44827179,  787.98248357,  486.93194673,  541.89982795,\n",
       "        376.74813045,  624.81211202, -170.11945033,  917.76513801,\n",
       "        792.26439518,  -21.15655005,  300.24921659,  914.07325473,\n",
       "        621.05636286,  934.17373986,  676.85479574,  653.92304403,\n",
       "        615.51226767,  336.61090622,  505.75519147,  -33.53283763])"
      ]
     },
     "execution_count": 14,
     "metadata": {},
     "output_type": "execute_result"
    }
   ],
   "source": [
    "y_pred = model.predict(X_test)\n",
    "y_pred"
   ]
  },
  {
   "cell_type": "code",
   "execution_count": 15,
   "id": "6a0f0b12",
   "metadata": {
    "execution": {
     "iopub.execute_input": "2024-06-13T06:10:33.444667Z",
     "iopub.status.busy": "2024-06-13T06:10:33.444243Z",
     "iopub.status.idle": "2024-06-13T06:10:33.449354Z",
     "shell.execute_reply": "2024-06-13T06:10:33.448289Z"
    },
    "papermill": {
     "duration": 0.015213,
     "end_time": "2024-06-13T06:10:33.451843",
     "exception": false,
     "start_time": "2024-06-13T06:10:33.436630",
     "status": "completed"
    },
    "tags": []
   },
   "outputs": [],
   "source": [
    "from sklearn.metrics import mean_absolute_error, r2_score"
   ]
  },
  {
   "cell_type": "code",
   "execution_count": 16,
   "id": "378d2714",
   "metadata": {
    "execution": {
     "iopub.execute_input": "2024-06-13T06:10:33.466720Z",
     "iopub.status.busy": "2024-06-13T06:10:33.466325Z",
     "iopub.status.idle": "2024-06-13T06:10:33.474868Z",
     "shell.execute_reply": "2024-06-13T06:10:33.473493Z"
    },
    "papermill": {
     "duration": 0.01844,
     "end_time": "2024-06-13T06:10:33.477161",
     "exception": false,
     "start_time": "2024-06-13T06:10:33.458721",
     "status": "completed"
    },
    "tags": []
   },
   "outputs": [
    {
     "data": {
      "text/plain": [
       "99.58910366731813"
      ]
     },
     "execution_count": 16,
     "metadata": {},
     "output_type": "execute_result"
    }
   ],
   "source": [
    "mean_absolute_error(y_pred, y_test)"
   ]
  },
  {
   "cell_type": "code",
   "execution_count": 17,
   "id": "df81e7c0",
   "metadata": {
    "execution": {
     "iopub.execute_input": "2024-06-13T06:10:33.492808Z",
     "iopub.status.busy": "2024-06-13T06:10:33.491789Z",
     "iopub.status.idle": "2024-06-13T06:10:33.499562Z",
     "shell.execute_reply": "2024-06-13T06:10:33.498428Z"
    },
    "papermill": {
     "duration": 0.017946,
     "end_time": "2024-06-13T06:10:33.501866",
     "exception": false,
     "start_time": "2024-06-13T06:10:33.483920",
     "status": "completed"
    },
    "tags": []
   },
   "outputs": [
    {
     "data": {
      "text/plain": [
       "0.83982461599445"
      ]
     },
     "execution_count": 17,
     "metadata": {},
     "output_type": "execute_result"
    }
   ],
   "source": [
    "r2_score(y_test, y_pred)"
   ]
  },
  {
   "cell_type": "code",
   "execution_count": null,
   "id": "9abe3024",
   "metadata": {
    "papermill": {
     "duration": 0.006164,
     "end_time": "2024-06-13T06:10:33.514635",
     "exception": false,
     "start_time": "2024-06-13T06:10:33.508471",
     "status": "completed"
    },
    "tags": []
   },
   "outputs": [],
   "source": []
  }
 ],
 "metadata": {
  "kaggle": {
   "accelerator": "none",
   "dataSources": [],
   "dockerImageVersionId": 30732,
   "isGpuEnabled": false,
   "isInternetEnabled": true,
   "language": "python",
   "sourceType": "notebook"
  },
  "kernelspec": {
   "display_name": "Python 3",
   "language": "python",
   "name": "python3"
  },
  "language_info": {
   "codemirror_mode": {
    "name": "ipython",
    "version": 3
   },
   "file_extension": ".py",
   "mimetype": "text/x-python",
   "name": "python",
   "nbconvert_exporter": "python",
   "pygments_lexer": "ipython3",
   "version": "3.10.13"
  },
  "papermill": {
   "default_parameters": {},
   "duration": 7.085996,
   "end_time": "2024-06-13T06:10:34.142742",
   "environment_variables": {},
   "exception": null,
   "input_path": "__notebook__.ipynb",
   "output_path": "__notebook__.ipynb",
   "parameters": {},
   "start_time": "2024-06-13T06:10:27.056746",
   "version": "2.5.0"
  }
 },
 "nbformat": 4,
 "nbformat_minor": 5
}
